{
 "cells": [
  {
   "cell_type": "markdown",
   "metadata": {},
   "source": [
    "# Monte Carlo et l’option asiatique"
   ]
  },
  {
   "cell_type": "raw",
   "metadata": {},
   "source": [
    "Projet réalisé:\n",
    "\n",
    "Ait Ali Youssef\n",
    "Meskouri Wadie\n",
    "Slaoui Saad\n",
    "\n",
    "Master 2 IFIM"
   ]
  },
  {
   "cell_type": "raw",
   "metadata": {},
   "source": [
    "Introduction:\n",
    "Ce projet consiste à simuler le prix des options financières à l'aide de la méthode de Monte Carlo. Il s'inspire des modèles tels que le modèle Black-Scholes-Merton pour évaluer les options européennes et asiatiques.\n",
    "\n",
    "Le modèle Black-Scholes-Merton est largement utilisé en finance pour estimer le prix des options. Il repose sur des hypothèses de marché efficient, d'absence d'opportunités d'arbitrage, et de volatilité constante. Les options européennes et asiatiques sont deux types d'options financières couramment négociées sur les marchés."
   ]
  },
  {
   "cell_type": "raw",
   "metadata": {},
   "source": [
    "Objectif:\n",
    "L'objectif de ce projet est d'utiliser la méthode de Monte Carlo pour estimer le prix des options européennes et asiatiques. La méthode de Monte Carlo est une technique de simulation probabiliste qui permet d'approximer des résultats complexes en générant un grand nombre d'échantillons aléatoires."
   ]
  },
  {
   "cell_type": "code",
   "execution_count": 2,
   "metadata": {},
   "outputs": [
    {
     "name": "stderr",
     "output_type": "stream",
    
    }
   ],
   "source": [
    "import math\n",
    "import random as ran\n",
    "import numpy as np\n",
    "import pandas as pd"
   ]
  },
  {
   "cell_type": "code",
   "execution_count": 3,
   "metadata": {},
   "outputs": [],
   "source": [
    "from scipy.stats import norm\n",
    "from time import time\n",
    "import matplotlib.pyplot as plt"
   ]
  },
  {
   "cell_type": "code",
   "execution_count": null,
   "metadata": {},
   "outputs": [],
   "source": [
    "######## ######## Partie O: modèle de Black et Scholes ######## ########"
   ]
  },
  {
   "cell_type": "code",
   "execution_count": 4,
   "metadata": {},
   "outputs": [],
   "source": [
    "np.random.seed(123)"
   ]
  },
  {
   "cell_type": "raw",
   "metadata": {},
   "source": [
    "S0 # Prix actuel de l'actif sous-jacent\n",
    "K # Prix d'exercice de l'option\n",
    "T # Temps jusqu'à l'expiration (1 an)\n",
    "r # Taux d'intérêt sans risque\n",
    "sigma # Volatilité"
   ]
  },
  {
   "cell_type": "code",
   "execution_count": 5,
   "metadata": {},
   "outputs": [],
   "source": [
    "parametres = [\n",
    "    (100, 105, 1, 0.02, 0.1, True),\n",
    "    (100, 105, 1, 0.02, 0.1, False),\n",
    "    (100, 105, 1, 0.02, 0, True),\n",
    "    (100, 105, 1, 0.02, 0, False),\n",
    "]"
   ]
  },
  {
   "cell_type": "code",
   "execution_count": 4,
   "metadata": {},
   "outputs": [],
   "source": [
    "# Question 1\n",
    "def formule_Black_Scholes(S0, K, T, r, sigma, call=True):\n",
    "    \"\"\"\n",
    "    Objectif: Estimer le prix d'une option européenne (call ou put) \n",
    "    en utilisant le modèle Black-Scholes-Merton.\n",
    "    \n",
    "    Input:\n",
    "    S0 (float): Prix de l'actif sous-jacent\n",
    "    K (float): Prix d'exercice de l'option\n",
    "    T (int): Durée jusqu'à l'échéance de l'option en années\n",
    "    r (float): Taux d'intérêt sans risque\n",
    "    sigma (float): Volatilité de l'actif sous-jacent\n",
    "    call (bool, optional): Type d'option (True pour un call, False pour un put). Par défaut, c'est un call.\n",
    "    \n",
    "    Output:\n",
    "    option_price (float): Prix de l'option européenne (call ou put) \n",
    "    estimé à l'aide du modèle Black-Scholes-Merton.\n",
    "    \"\"\"\n",
    "    d1 = (math.log(S0 / K) + (r + (sigma**2) / 2) * T) / (sigma * math.sqrt(T))\n",
    "    d2 = d1 - sigma * math.sqrt(T)\n",
    "    \n",
    "    if call:\n",
    "        option_price = S0 * norm.cdf(d1) - K * math.exp(-r * T) * norm.cdf(d2)\n",
    "    else:\n",
    "        option_price = K * math.exp(-r * T) * norm.cdf(-d2) - S0 * norm.cdf(-d1)\n",
    "    \n",
    "    return option_price"
   ]
  },
  {
   "cell_type": "code",
   "execution_count": 6,
   "metadata": {},
   "outputs": [],
   "source": [
    "# Question 2\n",
    "import scipy.stats as st\n",
    "def formule_Black_Scholes(S0, K, T, r, sigma, call=True):\n",
    "    \"\"\"\n",
    "    Objectif: Estimer le prix d'une option européenne (call ou put) \n",
    "    en utilisant le modèle Black-Scholes-Merton en tenant de la valeur\n",
    "    de sigma (volatilité) et T (Temps).\n",
    "    \n",
    "    Input:\n",
    "    S0 (float): Prix de l'actif sous-jacent\n",
    "    K (float): Prix d'exercice de l'option\n",
    "    T (int): Durée jusqu'à l'échéance de l'option en années\n",
    "    r (float): Taux d'intérêt sans risque\n",
    "    sigma (float): Volatilité de l'actif sous-jacent\n",
    "    call (bool, optional): Type d'option (True pour un call, False pour un put). Par défaut, c'est un call.\n",
    "    \n",
    "    Output:\n",
    "    option_price (float): Prix de l'option européenne (call ou put) estimé à l'aide du modèle Black-Scholes-Merton.\n",
    "    \"\"\"\n",
    "    if sigma == 0 or T == 0:\n",
    "        if call:\n",
    "            option_price = np.maximum((S0 - K * math.exp(-r * T)), 0)\n",
    "        else:\n",
    "            option_price = np.maximum((K * math.exp(-r * T) - S0), 0)\n",
    "    else:\n",
    "        d1 = (math.log(S0 / K) + (r + (sigma**2) / 2) * T) / (sigma * math.sqrt(T))\n",
    "        d2 = d1 - sigma * math.sqrt(T)\n",
    "    \n",
    "        if call:\n",
    "            option_price = S0 * norm.cdf(d1) - K * math.exp(-r * T) * st.norm.cdf(d2)\n",
    "        else:\n",
    "            option_price = K * math.exp(-r * T) * norm.cdf(-d2) - S0 * st.norm.cdf(-d1)\n",
    "    \n",
    "    return option_price"
   ]
  },
  {
   "cell_type": "code",
   "execution_count": 6,
   "metadata": {},
   "outputs": [
    {
     "name": "stdout",
     "output_type": "stream",
     "text": [
      "Prix de l'option d'achat (call) :  2.7519486233365384\n",
      "Prix de l'option de vente (put) :  5.672809320545852 \n",
      "\n",
      "Prix de l'option d'achat (call) avec sigma = 0 :  0.0\n",
      "Prix de l'option de vente (put) avec sigma = 0 :  2.9208606972093065\n"
     ]
    }
   ],
   "source": [
    "call_option_price = formule_Black_Scholes(*parametres[0])\n",
    "put_option_price = formule_Black_Scholes(*parametres[1])\n",
    "call_option_price_No_sigma = formule_Black_Scholes(*parametres[2])\n",
    "put_option_price_No_sigma = formule_Black_Scholes(*parametres[3])\n",
    "\n",
    "print(\"Prix de l'option d'achat (call) : \", call_option_price)\n",
    "print(\"Prix de l'option de vente (put) : \", put_option_price, \"\\n\")\n",
    "print(\"Prix de l'option d'achat (call) avec sigma = 0 : \", call_option_price_No_sigma)\n",
    "print(\"Prix de l'option de vente (put) avec sigma = 0 : \", put_option_price_No_sigma)"
   ]
  },
  {
   "cell_type": "code",
   "execution_count": 7,
   "metadata": {},
   "outputs": [
    {
     "name": "stdout",
     "output_type": "stream",
     "text": [
      "Prix de l'option d'achat (call) :  2.7519486233365384\n",
      "Prix de l'option de vente (put) :  5.672809320545852 \n",
      "\n",
      "Valeur théorique de la parité put-call :  -2.9208606972093065\n",
      "Différence entre P_call et P_put :  -2.9208606972093136\n"
     ]
    }
   ],
   "source": [
    "# Question 3\n",
    "# P_call - P_put = S0 - K*exp(-r*T)\n",
    "\n",
    "\"\"\"\n",
    "    On cherche à monter la parité call - put\n",
    "\"\"\"\n",
    "\n",
    "# Calcul de la valeur théorique de la parité put-call\n",
    "def parite_theorique(S0 : float, K: float, T:float, r:float):\n",
    "    return S0 - K * math.exp(-r * T)\n",
    "\n",
    "resultat_theorique = parite_theorique(*parametres[0][:-2])\n",
    "\n",
    "# Calcul de la différence entre Pcall et Pput\n",
    "difference = call_option_price - put_option_price\n",
    "\n",
    "# Affichage des résultats\n",
    "print(\"Prix de l'option d'achat (call) : \", call_option_price)\n",
    "print(\"Prix de l'option de vente (put) : \", put_option_price, \"\\n\")\n",
    "print(\"Valeur théorique de la parité put-call : \", resultat_theorique)\n",
    "print(\"Différence entre P_call et P_put : \", difference)"
   ]
  },
  {
   "cell_type": "code",
   "execution_count": 8,
   "metadata": {},
   "outputs": [
    {
     "data": {
      "text/plain": [
       "True"
      ]
     },
     "execution_count": 8,
     "metadata": {},
     "output_type": "execute_result"
    }
   ],
   "source": [
    "# Teste de la parité Put Call\n",
    "round(difference, 12) == round(resultat_theorique, 12)"
   ]
  },
  {
   "cell_type": "raw",
   "metadata": {},
   "source": [
    "Résultat:\n",
    "On prend que 4 valeurs après la virgule, on peut confirmé la parité Put Call"
   ]
  },
  {
   "cell_type": "code",
   "execution_count": 9,
   "metadata": {},
   "outputs": [
    {
     "data": {
      "text/plain": [
       "False"
      ]
     },
     "execution_count": 9,
     "metadata": {},
     "output_type": "execute_result"
    }
   ],
   "source": [
    "difference == resultat_theorique"
   ]
  },
  {
   "cell_type": "raw",
   "metadata": {},
   "source": [
    "Observation:\n",
    "Théoriquement la parité put call existe.\n",
    "Cependant sur le plan technique on ne peut pas affirmé que cette parité est juste à 100%."
   ]
  },
  {
   "cell_type": "code",
   "execution_count": 33,
   "metadata": {},
   "outputs": [],
   "source": [
    "######## ######## Partie I: Monte Carlo & option européenne ######## ########"
   ]
  },
  {
   "cell_type": "code",
   "execution_count": 7,
   "metadata": {},
   "outputs": [],
   "source": [
    "# Question 2\n",
    "def moyenne_ecart(xlist):\n",
    "    \"\"\"\n",
    "    Objectif: Calculer la moyenne et l'écart type d'une liste de valeurs.\n",
    "\n",
    "    Input:\n",
    "    xlist (list): Liste de valeurs numériques.\n",
    "\n",
    "    Output:\n",
    "    moyenne (float): Moyenne des valeurs dans la liste.\n",
    "    ecart_type (float): Écart type des valeurs dans la liste.\n",
    "    \"\"\"\n",
    "    # Vérifiez si la liste est vide\n",
    "    n = len(xlist)\n",
    "    if n == 0:\n",
    "        return None\n",
    "\n",
    "    # Calcul de la moyenne\n",
    "    moyenne = sum(xlist) / n\n",
    "\n",
    "    # Calcul de l'écart type\n",
    "    ecart_type = math.sqrt(sum((x - moyenne) ** 2 for x in xlist) / (n * (n - 1)))\n",
    "\n",
    "    return moyenne, ecart_type"
   ]
  },
  {
   "cell_type": "code",
   "execution_count": 36,
   "metadata": {},
   "outputs": [],
   "source": [
    "############### ############### Exercice 3 ############### ###############"
   ]
  },
  {
   "cell_type": "code",
   "execution_count": 11,
   "metadata": {},
   "outputs": [],
   "source": [
    "# Exercice 3 - Question 1\n",
    "\n",
    "def option_eu_MC1(S0, K, T, r, sigma, call=True, n=10**6):\n",
    "    \"\"\"\n",
    "    Objectif: Estimer le prix d'une option européenne (call ou put) \n",
    "    par simulation de Monte Carlo.\n",
    "\n",
    "    Input:\n",
    "    S0 (float): Prix de l'actif sous-jacent\n",
    "    K (float): Prix d'exercice de l'option\n",
    "    T (float): Durée jusqu'à l'échéance de l'option en années\n",
    "    r (float): Taux d'intérêt sans risque\n",
    "    sigma (float): Volatilité de l'actif sous-jacent\n",
    "    call (bool, optional): Type d'option (True pour un call, False pour un put). Par défaut, c'est un call.\n",
    "    n (int, optional): Nombre d'échantillons pour la simulation de Monte Carlo. Par défaut, n=10^6.\n",
    "\n",
    "    Output:\n",
    "    option_price (float): Prix estimé de l'option européenne.\n",
    "    ecart_type (float): Estimation de l'écart type de l'option européenne.\n",
    "    \"\"\"\n",
    "    option_prices = []\n",
    "\n",
    "    for _ in range(n):\n",
    "        Z = np.random.normal(0, 1)\n",
    "        ST = S0 * np.exp((r - 0.5 * sigma ** 2) * T + sigma * math.sqrt(T) * Z)\n",
    "\n",
    "        if call:\n",
    "            option_price = np.maximum(ST - K, 0)\n",
    "        else:\n",
    "            option_price = np.maximum(K - ST, 0)\n",
    "\n",
    "        option_prices.append(option_price)\n",
    "\n",
    "    option_price = np.exp(-r * T) * np.mean(option_prices)\n",
    "    \n",
    "    ecart_type = moyenne_ecart(option_prices)[1]\n",
    "    return option_price, ecart_type"
   ]
  },
  {
   "cell_type": "code",
   "execution_count": 12,
   "metadata": {},
   "outputs": [],
   "source": [
    "def calculate_option_prices(row, F):\n",
    "    \"\"\"\n",
    "    Objectif: Calculer les prix d'une option européenne en utilisant \n",
    "    à la fois la formule Black-Scholes et la simulation de Monte Carlo.\n",
    "\n",
    "    Input:\n",
    "    row (tuple): Tuple contenant les paramètres de l'option (S0, K, T, r, sigma, call).\n",
    "\n",
    "    Output:\n",
    "    bs_price (float): Prix estimé de l'option européenne à l'aide de la formule Black-Scholes.\n",
    "    mc_price (float): Prix estimé de l'option européenne à l'aide de la simulation de Monte Carlo.\n",
    "    \"\"\"\n",
    "    S0, K, T, r, sigma, call = row\n",
    "    bs_price = formule_Black_Scholes(S0, K, T, r, sigma, call)\n",
    "    mc_price = F(S0, K, T, r, sigma, call)[0]\n",
    "    return bs_price, mc_price\n"
   ]
  },
  {
   "cell_type": "code",
   "execution_count": 13,
   "metadata": {},
   "outputs": [
    {
     "data": {
      "text/html": [
       "<div>\n",
       "<style scoped>\n",
       "    .dataframe tbody tr th:only-of-type {\n",
       "        vertical-align: middle;\n",
       "    }\n",
       "\n",
       "    .dataframe tbody tr th {\n",
       "        vertical-align: top;\n",
       "    }\n",
       "\n",
       "    .dataframe thead th {\n",
       "        text-align: right;\n",
       "    }\n",
       "</style>\n",
       "<table border=\"1\" class=\"dataframe\">\n",
       "  <thead>\n",
       "    <tr style=\"text-align: right;\">\n",
       "      <th></th>\n",
       "      <th>S0</th>\n",
       "      <th>K</th>\n",
       "      <th>T</th>\n",
       "      <th>r</th>\n",
       "      <th>sigma</th>\n",
       "      <th>call</th>\n",
       "      <th>BS_Price</th>\n",
       "      <th>MC_Price</th>\n",
       "      <th>Error %</th>\n",
       "    </tr>\n",
       "  </thead>\n",
       "  <tbody>\n",
       "    <tr>\n",
       "      <th>0</th>\n",
       "      <td>100</td>\n",
       "      <td>105</td>\n",
       "      <td>1</td>\n",
       "      <td>0.05</td>\n",
       "      <td>0.20</td>\n",
       "      <td>True</td>\n",
       "      <td>8.021352</td>\n",
       "      <td>8.002551</td>\n",
       "      <td>0.234386</td>\n",
       "    </tr>\n",
       "    <tr>\n",
       "      <th>1</th>\n",
       "      <td>100</td>\n",
       "      <td>105</td>\n",
       "      <td>1</td>\n",
       "      <td>0.05</td>\n",
       "      <td>0.20</td>\n",
       "      <td>False</td>\n",
       "      <td>7.900442</td>\n",
       "      <td>7.909536</td>\n",
       "      <td>0.115105</td>\n",
       "    </tr>\n",
       "    <tr>\n",
       "      <th>2</th>\n",
       "      <td>110</td>\n",
       "      <td>100</td>\n",
       "      <td>2</td>\n",
       "      <td>0.03</td>\n",
       "      <td>0.15</td>\n",
       "      <td>True</td>\n",
       "      <td>18.734615</td>\n",
       "      <td>18.720553</td>\n",
       "      <td>0.075058</td>\n",
       "    </tr>\n",
       "    <tr>\n",
       "      <th>3</th>\n",
       "      <td>110</td>\n",
       "      <td>100</td>\n",
       "      <td>2</td>\n",
       "      <td>0.03</td>\n",
       "      <td>0.15</td>\n",
       "      <td>False</td>\n",
       "      <td>2.911068</td>\n",
       "      <td>2.909796</td>\n",
       "      <td>0.043687</td>\n",
       "    </tr>\n",
       "    <tr>\n",
       "      <th>4</th>\n",
       "      <td>90</td>\n",
       "      <td>95</td>\n",
       "      <td>1</td>\n",
       "      <td>0.04</td>\n",
       "      <td>0.18</td>\n",
       "      <td>True</td>\n",
       "      <td>5.882154</td>\n",
       "      <td>5.877742</td>\n",
       "      <td>0.075015</td>\n",
       "    </tr>\n",
       "    <tr>\n",
       "      <th>5</th>\n",
       "      <td>90</td>\n",
       "      <td>95</td>\n",
       "      <td>1</td>\n",
       "      <td>0.04</td>\n",
       "      <td>0.18</td>\n",
       "      <td>False</td>\n",
       "      <td>7.157151</td>\n",
       "      <td>7.165599</td>\n",
       "      <td>0.118037</td>\n",
       "    </tr>\n",
       "    <tr>\n",
       "      <th>6</th>\n",
       "      <td>105</td>\n",
       "      <td>100</td>\n",
       "      <td>3</td>\n",
       "      <td>0.06</td>\n",
       "      <td>0.25</td>\n",
       "      <td>True</td>\n",
       "      <td>29.052260</td>\n",
       "      <td>29.072920</td>\n",
       "      <td>0.071114</td>\n",
       "    </tr>\n",
       "    <tr>\n",
       "      <th>7</th>\n",
       "      <td>105</td>\n",
       "      <td>100</td>\n",
       "      <td>3</td>\n",
       "      <td>0.06</td>\n",
       "      <td>0.25</td>\n",
       "      <td>False</td>\n",
       "      <td>7.579281</td>\n",
       "      <td>7.570548</td>\n",
       "      <td>0.115222</td>\n",
       "    </tr>\n",
       "    <tr>\n",
       "      <th>8</th>\n",
       "      <td>115</td>\n",
       "      <td>120</td>\n",
       "      <td>2</td>\n",
       "      <td>0.03</td>\n",
       "      <td>0.20</td>\n",
       "      <td>True</td>\n",
       "      <td>13.839764</td>\n",
       "      <td>13.817017</td>\n",
       "      <td>0.164359</td>\n",
       "    </tr>\n",
       "    <tr>\n",
       "      <th>9</th>\n",
       "      <td>115</td>\n",
       "      <td>120</td>\n",
       "      <td>2</td>\n",
       "      <td>0.03</td>\n",
       "      <td>0.20</td>\n",
       "      <td>False</td>\n",
       "      <td>11.851508</td>\n",
       "      <td>11.847396</td>\n",
       "      <td>0.034699</td>\n",
       "    </tr>\n",
       "  </tbody>\n",
       "</table>\n",
       "</div>"
      ],
      "text/plain": [
       "    S0    K  T     r  sigma   call   BS_Price   MC_Price   Error %\n",
       "0  100  105  1  0.05   0.20   True   8.021352   8.002551  0.234386\n",
       "1  100  105  1  0.05   0.20  False   7.900442   7.909536  0.115105\n",
       "2  110  100  2  0.03   0.15   True  18.734615  18.720553  0.075058\n",
       "3  110  100  2  0.03   0.15  False   2.911068   2.909796  0.043687\n",
       "4   90   95  1  0.04   0.18   True   5.882154   5.877742  0.075015\n",
       "5   90   95  1  0.04   0.18  False   7.157151   7.165599  0.118037\n",
       "6  105  100  3  0.06   0.25   True  29.052260  29.072920  0.071114\n",
       "7  105  100  3  0.06   0.25  False   7.579281   7.570548  0.115222\n",
       "8  115  120  2  0.03   0.20   True  13.839764  13.817017  0.164359\n",
       "9  115  120  2  0.03   0.20  False  11.851508  11.847396  0.034699"
      ]
     },
     "execution_count": 13,
     "metadata": {},
     "output_type": "execute_result"
    }
   ],
   "source": [
    "# Exercice 3 - Question 2\n",
    "\n",
    "# Créez un DataFrame avec les jeux de paramètres\n",
    "parametres_question2 = [\n",
    "    (100, 105, 1, 0.05, 0.2, True),\n",
    "    (100, 105, 1, 0.05, 0.2, False),\n",
    "    (110, 100, 2, 0.03, 0.15, True),\n",
    "    (110, 100, 2, 0.03, 0.15, False),\n",
    "    (90, 95, 1, 0.04, 0.18, True),\n",
    "    (90, 95, 1, 0.04, 0.18, False),\n",
    "    (105, 100, 3, 0.06, 0.25, True),\n",
    "    (105, 100, 3, 0.06, 0.25, False),\n",
    "    (115, 120, 2, 0.03, 0.2, True),\n",
    "    (115, 120, 2, 0.03, 0.2, False)\n",
    "]\n",
    "\n",
    "Data_simulation_MC1 = pd.DataFrame(parametres_question2, columns=['S0', 'K', 'T', 'r', 'sigma', 'call'])\n",
    "\n",
    "Data_simulation_MC1[['BS_Price', 'MC_Price']] = Data_simulation_MC1.apply(lambda row: pd.Series(calculate_option_prices(row, option_eu_MC1)), axis=1)\n",
    "Data_simulation_MC1[\"Error %\"] = abs((Data_simulation_MC1[\"MC_Price\"] / Data_simulation_MC1[\"BS_Price\"]) - 1) * 100\n",
    "\n",
    "Data_simulation_MC1"
   ]
  },
  {
   "cell_type": "raw",
   "metadata": {},
   "source": [
    "Observation:\n",
    "Le Tableau suivi affiche les deux prix calculer à partir des différents\n",
    "paramètres, ainsi que l'erreur entre ces deux prix.\n",
    "Cependant, on peut voir qu'il existe une différence remarquable dans les prix\n",
    "simuler."
   ]
  },
  {
   "cell_type": "code",
   "execution_count": 10,
   "metadata": {},
   "outputs": [],
   "source": [
    "# Exercice 3 - Question 3 (OPTIMISATION)\n",
    "\n",
    "def option_eu_MC2(S0, K, T, r, sigma, call=True, n=10**6):\n",
    "    \"\"\"\n",
    "    Objectif: Estimer le prix d'une option européenne (call ou put) \n",
    "    par simulation de Monte Carlo, methode optimiser.\n",
    "\n",
    "    Input:\n",
    "    S0 (float): Prix de l'actif sous-jacent\n",
    "    K (float): Prix d'exercice de l'option\n",
    "    T (float): Durée jusqu'à l'échéance de l'option en années\n",
    "    r (float): Taux d'intérêt sans risque\n",
    "    sigma (float): Volatilité de l'actif sous-jacent\n",
    "    call (bool, optional): Type d'option (True pour un call, False pour un put). Par défaut, c'est un call.\n",
    "    n (int, optional): Nombre d'échantillons pour la simulation de Monte Carlo. Par défaut, n=10^4.\n",
    "\n",
    "    Output:\n",
    "    option_price (float): Prix estimé de l'option européenne.\n",
    "    ecart_type (float): Estimation de l'écart type de l'option européenne.\n",
    "    \"\"\"\n",
    "\n",
    "    # Générer n échantillons aléatoires à partir de la distribution normale standard\n",
    "    Z = np.random.standard_normal(n)\n",
    "\n",
    "    # Calculer les prix futurs de l'actif sous-jacent\n",
    "    ST = S0 * np.exp((r - 0.5 * sigma ** 2) * T + sigma * np.sqrt(T) * Z)\n",
    "\n",
    "    # Calculer le profit de l'option à l'expiration\n",
    "    if call:\n",
    "        option_payoff = np.maximum(ST - K, 0)\n",
    "    else:\n",
    "        option_payoff = np.maximum(K - ST, 0)\n",
    "\n",
    "    # Calculer le prix de l'option en utilisant l'espérance mathématique\n",
    "    option_price = np.exp(-r * T) * np.mean(option_payoff)\n",
    "    \n",
    "    # squared_option_prices = [price ** 2 for price in option_payoff]\n",
    "    # option_price_squared = option_price ** 2\n",
    "    # variance = sum(squared_option_prices) / n - option_price_squared\n",
    "    # error = math.sqrt(variance / n)\n",
    "    \n",
    "    ecart = moyenne_ecart(option_payoff)[1]\n",
    "    return option_price, ecart"
   ]
  },
  {
   "cell_type": "code",
   "execution_count": 15,
   "metadata": {},
   "outputs": [
    {
     "name": "stdout",
     "output_type": "stream",
     "text": [
      "Prix de l'option d'achat (call) et l'écart:  (2.7528890165841564, 0.005313244853823692)\n",
      "Prix de l'option de vente (put) et l'écart:  (5.672140845982271, 0.006617658542564991) \n",
      "\n",
      "Prix de l'option d'achat (call) avec sigma = 0 et l'écart:  (0.0, 0.0)\n",
      "Prix de l'option de vente (put) avec sigma = 0 et l'écart:  (2.9208606972093043, 6.233594537621407e-14)\n"
     ]
    }
   ],
   "source": [
    "call_option_price = option_eu_MC2(*parametres[0])\n",
    "put_option_price = option_eu_MC2(*parametres[1])\n",
    "call_option_price_No_sigma = option_eu_MC2(*parametres[2])\n",
    "put_option_price_No_sigma = option_eu_MC2(*parametres[3])\n",
    "\n",
    "print(\"Prix de l'option d'achat (call) et l'écart: \", call_option_price)\n",
    "print(\"Prix de l'option de vente (put) et l'écart: \", put_option_price, \"\\n\")\n",
    "print(\"Prix de l'option d'achat (call) avec sigma = 0 et l'écart: \", call_option_price_No_sigma)\n",
    "print(\"Prix de l'option de vente (put) avec sigma = 0 et l'écart: \", put_option_price_No_sigma)"
   ]
  },
  {
   "cell_type": "code",
   "execution_count": 16,
   "metadata": {},
   "outputs": [],
   "source": [
    "# définir les paramètre du test\n",
    "S0, K, T, r, sigma, call = parametres[0]\n",
    "\n",
    "# Liste des valeurs de n à tester\n",
    "n_valeurs = [10**i for i in range(1, 7)]"
   ]
  },
  {
   "cell_type": "code",
   "execution_count": 17,
   "metadata": {},
   "outputs": [
    {
     "name": "stdout",
     "output_type": "stream",
     "text": [
      "           n       σˆP  Temps d'exécution (s)\n",
      "0       10.0  1.029708               0.000000\n",
      "1      100.0  0.659722               0.000997\n",
      "2     1000.0  0.171427               0.009972\n",
      "3    10000.0  0.053995               0.071818\n",
      "4   100000.0  0.016671               0.692377\n",
      "5  1000000.0  0.005306               7.291612\n"
     ]
    }
   ],
   "source": [
    "# Exercice 3 - Question 3 \n",
    "# on test la fonction option_eu_MC1\n",
    "\n",
    "# Créez un DataFrame pour stocker les résultats\n",
    "resultats_option_eu_MC1 = pd.DataFrame(columns=['n', 'σˆP', 'Temps d\\'exécution (s)'])\n",
    "\n",
    "# Itération sur différentes valeurs de n\n",
    "for n in n_valeurs:\n",
    "    debut = time()  # Mesurer le temps de départ\n",
    "    P, sigma_hat = option_eu_MC1(S0, K, T, r, sigma, True, n)\n",
    "    fin = time()  # Mesurer le temps de fin\n",
    "    temps_execution = fin - debut\n",
    "    \n",
    "    # Ajouter les résultats à la DataFrame en utilisant loc\n",
    "    resultats_option_eu_MC1.loc[len(resultats_option_eu_MC1)] = [n, sigma_hat, temps_execution]\n",
    "\n",
    "# Afficher les résultats\n",
    "print(resultats_option_eu_MC1)"
   ]
  },
  {
   "cell_type": "code",
   "execution_count": 22,
   "metadata": {},
   "outputs": [
    {
     "data": {
      "image/png": "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\n",
      "text/plain": [
       "<Figure size 720x360 with 2 Axes>"
      ]
     },
     "metadata": {
      "needs_background": "light"
     },
     "output_type": "display_data"
    }
   ],
   "source": [
    "# Tracer les graphiques\n",
    "plt.figure(figsize=(10, 5))\n",
    "plt.subplot(1, 2, 1)\n",
    "plt.plot(resultats_option_eu_MC1['n'].values, resultats_option_eu_MC1['σˆP'].values, marker='o')\n",
    "plt.xlabel('n')\n",
    "plt.ylabel('Estimé d\\'erreur σˆP')\n",
    "plt.title('Variation de l\\'estimé d\\'erreur en fonction de n')\n",
    "\n",
    "plt.subplot(1, 2, 2)\n",
    "plt.plot(resultats_option_eu_MC1['n'].values, resultats_option_eu_MC1['Temps d\\'exécution (s)'].values, marker='o', color='green')\n",
    "plt.xlabel('n')\n",
    "plt.ylabel('Temps d\\'exécution (s)')\n",
    "plt.title('Variation du temps d\\'exécution en fonction de n')\n",
    "\n",
    "plt.tight_layout()\n",
    "plt.show()"
   ]
  },
  {
   "cell_type": "code",
   "execution_count": 23,
   "metadata": {},
   "outputs": [
    {
     "name": "stdout",
     "output_type": "stream",
     "text": [
      "           n       σˆP  Temps d'exécution (s)\n",
      "0       10.0  2.225248               0.000000\n",
      "1      100.0  0.454290               0.000000\n",
      "2     1000.0  0.154698               0.001005\n",
      "3    10000.0  0.053277               0.014164\n",
      "4   100000.0  0.016642               0.072477\n",
      "5  1000000.0  0.005321               0.781115\n"
     ]
    }
   ],
   "source": [
    "# Exercice 3 - Question 3 \n",
    "# on test la fonction option_eu_MC2\n",
    "\n",
    "# Créez un DataFrame pour stocker les résultats\n",
    "resultats_option_eu_MC2 = pd.DataFrame(columns=['n', 'σˆP', 'Temps d\\'exécution (s)'])\n",
    "\n",
    "# Itération sur différentes valeurs de n\n",
    "for n in n_valeurs:\n",
    "    debut = time()  # Mesurer le temps de départ\n",
    "    P, sigma_hat = option_eu_MC2(S0, K, T, r, sigma, True, n)\n",
    "    fin = time()  # Mesurer le temps de fin\n",
    "    temps_execution = fin - debut\n",
    "    \n",
    "    # Ajouter les résultats à la DataFrame en utilisant loc\n",
    "    resultats_option_eu_MC2.loc[len(resultats_option_eu_MC2)] = [n, sigma_hat, temps_execution]\n",
    "\n",
    "# Afficher les résultats\n",
    "print(resultats_option_eu_MC2)"
   ]
  },
  {
   "cell_type": "code",
   "execution_count": 24,
   "metadata": {},
   "outputs": [
    {
     "data": {
      "image/png": "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\n",
      "text/plain": [
       "<Figure size 720x360 with 2 Axes>"
      ]
     },
     "metadata": {
      "needs_background": "light"
     },
     "output_type": "display_data"
    }
   ],
   "source": [
    "# Tracer les graphiques\n",
    "plt.figure(figsize=(10, 5))\n",
    "plt.subplot(1, 2, 1)\n",
    "plt.plot(resultats_option_eu_MC2['n'].values, resultats_option_eu_MC2['σˆP'].values, marker='o')\n",
    "plt.xlabel('n')\n",
    "plt.ylabel('Estimé d\\'erreur σˆP')\n",
    "plt.title('Variation de l\\'estimé d\\'erreur en fonction de n')\n",
    "\n",
    "plt.subplot(1, 2, 2)\n",
    "plt.plot(resultats_option_eu_MC2['n'].values, resultats_option_eu_MC2['Temps d\\'exécution (s)'].values, marker='o', color='green')\n",
    "plt.xlabel('n')\n",
    "plt.ylabel('Temps d\\'exécution (s)')\n",
    "plt.title('Variation du temps d\\'exécution en fonction de n')\n",
    "\n",
    "plt.tight_layout()\n",
    "plt.show()"
   ]
  },
  {
   "cell_type": "code",
   "execution_count": 79,
   "metadata": {},
   "outputs": [],
   "source": [
    "############### ############### Hors Projet ############### ###############"
   ]
  },
  {
   "cell_type": "code",
   "execution_count": 25,
   "metadata": {},
   "outputs": [],
   "source": [
    "class Eu_Option_Pricing:\n",
    "\n",
    "    def __init__(self, S0, K, T, r, sigma, iterations = 10**6):\n",
    "        \"\"\"\n",
    "        Objectif: Initialiser un objet OptionPricing avec les paramètres \n",
    "        nécessaires pour le calcul des options.\n",
    "\n",
    "        Input:\n",
    "        S0 (float): Prix de l'actif sous-jacent\n",
    "        K (float): Prix d'exercice de l'option\n",
    "        T (float): Durée jusqu'à l'échéance de l'option en années\n",
    "        r (float): Taux d'intérêt sans risque\n",
    "        sigma (float): Volatilité de l'actif sous-jacent\n",
    "        iterations (int): Nombre d'itérations pour la simulation de Monte Carlo.\n",
    "        \"\"\"\n",
    "        self.S0 = S0\n",
    "        self.K = K\n",
    "        self.T = T\n",
    "        self.r = r\n",
    "        self.sigma = sigma\n",
    "        self.iterations = 10**6\n",
    "\n",
    "    def call_option_simulation(self):\n",
    "        \"\"\"\n",
    "        Objectif: Estimer le prix d'une option d'achat (call) à l'aide de la simulation de Monte Carlo.\n",
    "\n",
    "        Output:\n",
    "        call_option_price (float): Prix estimé de l'option d'achat.\n",
    "        \"\"\"\n",
    "        option_data = np.zeros([self.iterations, 2])\n",
    "        rand = np.random.normal(0, 1, [1, self.iterations])\n",
    "        stock_price = self.S0 * np.exp(self.T * (self.r - 0.5 * self.sigma ** 2) + self.sigma * np.sqrt(self.T) * rand)\n",
    "        option_data[:, 1] = stock_price - self.K\n",
    "\n",
    "        # Moyenne pour la méthode de Monte Carlo\n",
    "        average = np.sum(np.amax(option_data, axis=1)) / float(self.iterations)\n",
    "\n",
    "        return np.exp(-1.0 * self.r * self.T) * average\n",
    "\n",
    "    def put_option_simulation(self):\n",
    "        \"\"\"\n",
    "        Objectif: Estimer le prix d'une option de vente (put) à l'aide de la simulation de Monte Carlo.\n",
    "\n",
    "        Output:\n",
    "        put_option_price (float): Prix estimé de l'option de vente.\n",
    "        \"\"\"\n",
    "        option_data = np.zeros([self.iterations, 2])\n",
    "        rand = np.random.normal(0, 1, [1, self.iterations])\n",
    "        stock_price = self.S0 * np.exp(self.T * (self.r - 0.5 * self.sigma ** 2) + self.sigma * np.sqrt(self.T) * rand)\n",
    "        option_data[:, 1] = self.K - stock_price\n",
    "\n",
    "        # Moyenne pour la méthode de Monte Carlo\n",
    "        average = np.sum(np.amax(option_data, axis=1)) / float(self.iterations)\n",
    "\n",
    "        return np.exp(-1.0 * self.r * self.T) * average\n"
   ]
  },
  {
   "cell_type": "code",
   "execution_count": 26,
   "metadata": {},
   "outputs": [],
   "source": [
    "Eu_model = Eu_Option_Pricing(*parametres[0][:-1])\n",
    "Eu_model_No_sigma = Eu_Option_Pricing(*parametres[2][:-1])"
   ]
  },
  {
   "cell_type": "code",
   "execution_count": 27,
   "metadata": {},
   "outputs": [
    {
     "name": "stdout",
     "output_type": "stream",
     "text": [
      "Prix de l'option d'achat (call) :  2.75840999491809\n",
      "Prix de l'option de vente (put) :  5.676318393823811 \n",
      "\n",
      "Prix de l'option d'achat (call) avec sigma = 0 :  0.0\n",
      "Prix de l'option de vente (put) avec sigma = 0 :  2.9208606972093043\n"
     ]
    }
   ],
   "source": [
    "Eu_model = Eu_Option_Pricing(*parametres[0][:-1])\n",
    "\n",
    "call_option_price = Eu_model.call_option_simulation()\n",
    "put_option_price = Eu_model.put_option_simulation()\n",
    "call_option_price_No_sigma = Eu_model_No_sigma.call_option_simulation()\n",
    "put_option_price_No_sigma = Eu_model_No_sigma.put_option_simulation()\n",
    "\n",
    "print(\"Prix de l'option d'achat (call) : \", call_option_price)\n",
    "print(\"Prix de l'option de vente (put) : \", put_option_price, \"\\n\")\n",
    "print(\"Prix de l'option d'achat (call) avec sigma = 0 : \", call_option_price_No_sigma)\n",
    "print(\"Prix de l'option de vente (put) avec sigma = 0 : \", put_option_price_No_sigma)"
   ]
  },
  {
   "cell_type": "code",
   "execution_count": 38,
   "metadata": {},
   "outputs": [],
   "source": [
    "res_method_Eu_Option_Pricing = pd.DataFrame(columns=['n', 'Prix', 'Temps d\\'exécution (s)'])\n",
    "\n",
    "# Liste des valeurs de n à tester\n",
    "n_valeurs_method_Eu_Option_Pricing = [10**i for i in range(1,50)]\n",
    "sigma_hat = 0\n",
    "\n",
    "# Itération sur différentes valeurs de n\n",
    "for n in n_valeurs_method_Eu_Option_Pricing:\n",
    "    debut = time()  # Mesurer le temps de départ\n",
    "    P = Eu_Option_Pricing(S0,K,T,r,sigma,n).call_option_simulation()\n",
    "    fin = time()  # Mesurer le temps de fin\n",
    "    temps_execution = fin - debut\n",
    "    \n",
    "    # Ajouter les résultats à la DataFrame en utilisant loc\n",
    "    res_method_Eu_Option_Pricing.loc[len(res_method_Eu_Option_Pricing)] = [n, P, temps_execution]"
   ]
  },
  {
   "cell_type": "code",
   "execution_count": 29,
   "metadata": {},
   "outputs": [
    {
     "data": {
      "text/html": [
       "<div>\n",
       "<style scoped>\n",
       "    .dataframe tbody tr th:only-of-type {\n",
       "        vertical-align: middle;\n",
       "    }\n",
       "\n",
       "    .dataframe tbody tr th {\n",
       "        vertical-align: top;\n",
       "    }\n",
       "\n",
       "    .dataframe thead th {\n",
       "        text-align: right;\n",
       "    }\n",
       "</style>\n",
       "<table border=\"1\" class=\"dataframe\">\n",
       "  <thead>\n",
       "    <tr style=\"text-align: right;\">\n",
       "      <th></th>\n",
       "      <th>n</th>\n",
       "      <th>Prix</th>\n",
       "      <th>Temps d'exécution (s)</th>\n",
       "    </tr>\n",
       "  </thead>\n",
       "  <tbody>\n",
       "    <tr>\n",
       "      <th>0</th>\n",
       "      <td>10.0</td>\n",
       "      <td>2.755881</td>\n",
       "      <td>0.067475</td>\n",
       "    </tr>\n",
       "    <tr>\n",
       "      <th>1</th>\n",
       "      <td>100.0</td>\n",
       "      <td>2.758819</td>\n",
       "      <td>0.047656</td>\n",
       "    </tr>\n",
       "    <tr>\n",
       "      <th>2</th>\n",
       "      <td>1000.0</td>\n",
       "      <td>2.750649</td>\n",
       "      <td>0.062532</td>\n",
       "    </tr>\n",
       "    <tr>\n",
       "      <th>3</th>\n",
       "      <td>10000.0</td>\n",
       "      <td>2.759294</td>\n",
       "      <td>0.046841</td>\n",
       "    </tr>\n",
       "    <tr>\n",
       "      <th>4</th>\n",
       "      <td>100000.0</td>\n",
       "      <td>2.755339</td>\n",
       "      <td>0.046853</td>\n",
       "    </tr>\n",
       "    <tr>\n",
       "      <th>5</th>\n",
       "      <td>1000000.0</td>\n",
       "      <td>2.756195</td>\n",
       "      <td>0.062488</td>\n",
       "    </tr>\n",
       "    <tr>\n",
       "      <th>6</th>\n",
       "      <td>10000000.0</td>\n",
       "      <td>2.749867</td>\n",
       "      <td>0.062483</td>\n",
       "    </tr>\n",
       "    <tr>\n",
       "      <th>7</th>\n",
       "      <td>100000000.0</td>\n",
       "      <td>2.749450</td>\n",
       "      <td>0.046857</td>\n",
       "    </tr>\n",
       "    <tr>\n",
       "      <th>8</th>\n",
       "      <td>1000000000.0</td>\n",
       "      <td>2.750487</td>\n",
       "      <td>0.062479</td>\n",
       "    </tr>\n",
       "    <tr>\n",
       "      <th>9</th>\n",
       "      <td>10000000000.0</td>\n",
       "      <td>2.756150</td>\n",
       "      <td>0.062489</td>\n",
       "    </tr>\n",
       "    <tr>\n",
       "      <th>10</th>\n",
       "      <td>100000000000.0</td>\n",
       "      <td>2.748709</td>\n",
       "      <td>0.046863</td>\n",
       "    </tr>\n",
       "    <tr>\n",
       "      <th>11</th>\n",
       "      <td>1000000000000.0</td>\n",
       "      <td>2.747968</td>\n",
       "      <td>0.078152</td>\n",
       "    </tr>\n",
       "    <tr>\n",
       "      <th>12</th>\n",
       "      <td>10000000000000.0</td>\n",
       "      <td>2.752236</td>\n",
       "      <td>0.046865</td>\n",
       "    </tr>\n",
       "    <tr>\n",
       "      <th>13</th>\n",
       "      <td>100000000000000.0</td>\n",
       "      <td>2.753185</td>\n",
       "      <td>0.046851</td>\n",
       "    </tr>\n",
       "    <tr>\n",
       "      <th>14</th>\n",
       "      <td>1000000000000000.0</td>\n",
       "      <td>2.755047</td>\n",
       "      <td>0.062490</td>\n",
       "    </tr>\n",
       "    <tr>\n",
       "      <th>15</th>\n",
       "      <td>10000000000000000.0</td>\n",
       "      <td>2.765271</td>\n",
       "      <td>0.062494</td>\n",
       "    </tr>\n",
       "    <tr>\n",
       "      <th>16</th>\n",
       "      <td>100000000000000000.0</td>\n",
       "      <td>2.745839</td>\n",
       "      <td>0.067537</td>\n",
       "    </tr>\n",
       "    <tr>\n",
       "      <th>17</th>\n",
       "      <td>1000000000000000000.0</td>\n",
       "      <td>2.751182</td>\n",
       "      <td>0.052036</td>\n",
       "    </tr>\n",
       "    <tr>\n",
       "      <th>18</th>\n",
       "      <td>10000000000000000000.0</td>\n",
       "      <td>2.757703</td>\n",
       "      <td>0.073033</td>\n",
       "    </tr>\n",
       "    <tr>\n",
       "      <th>19</th>\n",
       "      <td>100000000000000000000</td>\n",
       "      <td>2.744317</td>\n",
       "      <td>0.070193</td>\n",
       "    </tr>\n",
       "    <tr>\n",
       "      <th>20</th>\n",
       "      <td>1000000000000000000000</td>\n",
       "      <td>2.751807</td>\n",
       "      <td>0.059109</td>\n",
       "    </tr>\n",
       "    <tr>\n",
       "      <th>21</th>\n",
       "      <td>10000000000000000000000</td>\n",
       "      <td>2.756360</td>\n",
       "      <td>0.045748</td>\n",
       "    </tr>\n",
       "    <tr>\n",
       "      <th>22</th>\n",
       "      <td>100000000000000000000000</td>\n",
       "      <td>2.747975</td>\n",
       "      <td>0.062485</td>\n",
       "    </tr>\n",
       "    <tr>\n",
       "      <th>23</th>\n",
       "      <td>1000000000000000000000000</td>\n",
       "      <td>2.751954</td>\n",
       "      <td>0.062530</td>\n",
       "    </tr>\n",
       "    <tr>\n",
       "      <th>24</th>\n",
       "      <td>10000000000000000000000000</td>\n",
       "      <td>2.752372</td>\n",
       "      <td>0.062700</td>\n",
       "    </tr>\n",
       "    <tr>\n",
       "      <th>25</th>\n",
       "      <td>100000000000000000000000000</td>\n",
       "      <td>2.751169</td>\n",
       "      <td>0.060168</td>\n",
       "    </tr>\n",
       "    <tr>\n",
       "      <th>26</th>\n",
       "      <td>1000000000000000000000000000</td>\n",
       "      <td>2.746851</td>\n",
       "      <td>0.064655</td>\n",
       "    </tr>\n",
       "    <tr>\n",
       "      <th>27</th>\n",
       "      <td>10000000000000000000000000000</td>\n",
       "      <td>2.754574</td>\n",
       "      <td>0.067049</td>\n",
       "    </tr>\n",
       "    <tr>\n",
       "      <th>28</th>\n",
       "      <td>100000000000000000000000000000</td>\n",
       "      <td>2.753733</td>\n",
       "      <td>0.086378</td>\n",
       "    </tr>\n",
       "    <tr>\n",
       "      <th>29</th>\n",
       "      <td>1000000000000000000000000000000</td>\n",
       "      <td>2.755732</td>\n",
       "      <td>0.063815</td>\n",
       "    </tr>\n",
       "    <tr>\n",
       "      <th>30</th>\n",
       "      <td>10000000000000000000000000000000</td>\n",
       "      <td>2.754015</td>\n",
       "      <td>0.067414</td>\n",
       "    </tr>\n",
       "    <tr>\n",
       "      <th>31</th>\n",
       "      <td>100000000000000000000000000000000</td>\n",
       "      <td>2.755046</td>\n",
       "      <td>0.057918</td>\n",
       "    </tr>\n",
       "  </tbody>\n",
       "</table>\n",
       "</div>"
      ],
      "text/plain": [
       "                                    n      Prix  Temps d'exécution (s)\n",
       "0                                10.0  2.755881               0.067475\n",
       "1                               100.0  2.758819               0.047656\n",
       "2                              1000.0  2.750649               0.062532\n",
       "3                             10000.0  2.759294               0.046841\n",
       "4                            100000.0  2.755339               0.046853\n",
       "5                           1000000.0  2.756195               0.062488\n",
       "6                          10000000.0  2.749867               0.062483\n",
       "7                         100000000.0  2.749450               0.046857\n",
       "8                        1000000000.0  2.750487               0.062479\n",
       "9                       10000000000.0  2.756150               0.062489\n",
       "10                     100000000000.0  2.748709               0.046863\n",
       "11                    1000000000000.0  2.747968               0.078152\n",
       "12                   10000000000000.0  2.752236               0.046865\n",
       "13                  100000000000000.0  2.753185               0.046851\n",
       "14                 1000000000000000.0  2.755047               0.062490\n",
       "15                10000000000000000.0  2.765271               0.062494\n",
       "16               100000000000000000.0  2.745839               0.067537\n",
       "17              1000000000000000000.0  2.751182               0.052036\n",
       "18             10000000000000000000.0  2.757703               0.073033\n",
       "19              100000000000000000000  2.744317               0.070193\n",
       "20             1000000000000000000000  2.751807               0.059109\n",
       "21            10000000000000000000000  2.756360               0.045748\n",
       "22           100000000000000000000000  2.747975               0.062485\n",
       "23          1000000000000000000000000  2.751954               0.062530\n",
       "24         10000000000000000000000000  2.752372               0.062700\n",
       "25        100000000000000000000000000  2.751169               0.060168\n",
       "26       1000000000000000000000000000  2.746851               0.064655\n",
       "27      10000000000000000000000000000  2.754574               0.067049\n",
       "28     100000000000000000000000000000  2.753733               0.086378\n",
       "29    1000000000000000000000000000000  2.755732               0.063815\n",
       "30   10000000000000000000000000000000  2.754015               0.067414\n",
       "31  100000000000000000000000000000000  2.755046               0.057918"
      ]
     },
     "execution_count": 29,
     "metadata": {},
     "output_type": "execute_result"
    }
   ],
   "source": [
    "# Afficher les résultats\n",
    "res_method_Eu_Option_Pricing"
   ]
  },
  {
   "cell_type": "code",
   "execution_count": 30,
   "metadata": {},
   "outputs": [],
   "source": [
    "bs_result = formule_Black_Scholes(*parametres[0])"
   ]
  },
  {
   "cell_type": "code",
   "execution_count": 39,
   "metadata": {},
   "outputs": [
    {
     "data": {
      "image/png": "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\n",
      "text/plain": [
       "<Figure size 720x360 with 2 Axes>"
      ]
     },
     "metadata": {
      "needs_background": "light"
     },
     "output_type": "display_data"
    }
   ],
   "source": [
    "# Tracer les graphiques\n",
    "plt.figure(figsize=(10, 5))\n",
    "plt.subplot(1, 2, 1)\n",
    "plt.plot(res_method_Eu_Option_Pricing['n'].values, res_method_Eu_Option_Pricing['Prix'].values, marker='o')\n",
    "plt.axhline(bs_result, color='r', linestyle='--', label='Black-Scholes')\n",
    "plt.xlabel('n')\n",
    "plt.ylabel('Estimé du prix d\\'option')\n",
    "plt.title('Variation de l\\'estimé des prix simulé en \\n fonction de n et le prix déduit par BC')\n",
    "\n",
    "plt.subplot(1, 2, 2)\n",
    "plt.plot(res_method_Eu_Option_Pricing['n'].values, res_method_Eu_Option_Pricing['Temps d\\'exécution (s)'].values, marker='o', color='green')\n",
    "plt.xlabel('n')\n",
    "plt.ylabel('Temps d\\'exécution (s)')\n",
    "plt.title('Variation du temps d\\'exécution en fonction de n')\n",
    "\n",
    "plt.tight_layout()\n",
    "plt.show()"
   ]
  },
  {
   "cell_type": "code",
   "execution_count": 117,
   "metadata": {},
   "outputs": [],
   "source": [
    "######## ######## Partie II: option asiatique ######## ########"
   ]
  },
  {
   "cell_type": "code",
   "execution_count": 8,
   "metadata": {},
   "outputs": [],
   "source": [
    "##Question 1\n",
    "def option_as_MC_1(S0, K, T, r, sigma, call=True, m = 6, n=10**6):\n",
    "    \"\"\"\n",
    "    Objectif: \n",
    "    Input: \n",
    "    Output:\n",
    "    \"\"\"\n",
    "    dt = T / m\n",
    "    simulation_results = []\n",
    "    \n",
    "    for _ in range(n):\n",
    "        # Générer m échantillons de prix sous-jacents\n",
    "        prix_samples = [S0]\n",
    "        for _ in range(m):\n",
    "            Z = np.random.normal(0, 1)\n",
    "            prix_sample = prix_samples[-1] * np.exp((r - 0.5 * sigma**2) * dt + sigma * np.sqrt(dt) * Z)\n",
    "            prix_samples.append(prix_sample)\n",
    "        \n",
    "        # Calculer la moyenne des prix sous-jacents\n",
    "        prix_moyen = np.mean(prix_samples)\n",
    "        \n",
    "        # Calculer la valeur de l'option\n",
    "        if call:\n",
    "            option_value = np.maximum(prix_moyen - K, 0)\n",
    "        else:\n",
    "            option_value = np.maximum(K - prix_moyen, 0)\n",
    "        \n",
    "        simulation_results.append(option_value)\n",
    "    \n",
    "    # Estimer le prix et l'erreur\n",
    "    P = np.mean(simulation_results) * np.exp(-r * T)\n",
    "    sigma_hat = moyenne_ecart(simulation_results)[1]\n",
    "    \n",
    "    return P, sigma_hat"
   ]
  },
  {
   "cell_type": "code",
   "execution_count": 9,
   "metadata": {},
   "outputs": [],
   "source": [
    "def Mouvement_brownien(S0, T, r, sigma, m, n=10**6):\n",
    "    \"\"\"\n",
    "    Simuler des trajectoires de mouvement brownien géométrique.\n",
    "    \"\"\"\n",
    "    dt = T / m\n",
    "    ST = S0 * np.exp(np.cumsum((r - 0.5 * sigma**2) * dt + sigma * np.sqrt(dt) * np.random.normal(0, 1, size=(m, n)), axis=0))\n",
    "    return ST"
   ]
  },
  {
   "cell_type": "code",
   "execution_count": 10,
   "metadata": {},
   "outputs": [],
   "source": [
    "#2ème fonction\n",
    "def option_as_MC_2(S0, K, T, r, sigma, call=True, m = 6, n=10**6):\n",
    "    \"\"\" S0, K, T, r, sigma, call=True, m = 6, n=10**6 \"\"\"\n",
    "    \"\"\"\n",
    "    Objectif: Estimer le prix d'une option asiatique en utilisant la méthode de Monte Carlo.\n",
    "    \n",
    "    Input:\n",
    "    - S0 : Prix initial de l'actif sous-jacent.\n",
    "    - K : Prix d'exercice de l'option.\n",
    "    - r : Taux d'intérêt sans risque.\n",
    "    - T : Durée de l'option.\n",
    "    - sigma : Volatilité de l'actif sous-jacent.\n",
    "    - m : Nombre de subdivisions temporelles pour le calcul de la moyenne.\n",
    "    - n : Nombre d'échantillons Monte Carlo.\n",
    "\n",
    "    Output:\n",
    "    Un dictionnaire contenant les estimations du prix d'achat et de vente de l'option asiatique ainsi que leurs erreurs types.\n",
    "    \"\"\"\n",
    "    if call:\n",
    "        epsilon = 1\n",
    "    else:\n",
    "        epsilon = -1\n",
    "    \n",
    "    paths = Mouvement_brownien(S0, T, r, sigma, m)\n",
    "    \n",
    "    S_mean = np.mean(paths, axis=0)\n",
    "    payoffs = np.maximum(epsilon * (S_mean - K), 0) * np.exp(-r * T)\n",
    "    sigma_hat = moyenne_ecart(payoffs)[1]\n",
    "    asia_price = np.mean(payoffs)\n",
    "     \n",
    "    return asia_price, sigma_hat"
   ]
  },
  {
   "cell_type": "raw",
   "metadata": {},
   "source": [
    "# Ne pas utiliser\n",
    "# ATTENTION - DANGER\n",
    "\n",
    "def option_as_MC_2(S0, K, T, r, sigma, m, call=True, n=10**6):\n",
    "    dt = T / m\n",
    "    simulation_results = []\n",
    "    \n",
    "    for _ in range(n):\n",
    "        # Générer n échantillons de variables aléatoires\n",
    "        Z = np.random.normal(0, 1, size=(n, m))\n",
    "        \n",
    "        # Générer n échantillons de prix sous-jacents en utilisant Z\n",
    "        prix_samples = S0 * np.exp(np.cumsum((r - 0.5 * sigma**2) * dt + sigma * np.sqrt(dt) * Z, axis=1))\n",
    "        \n",
    "        # Calculer la moyenne des prix sous-jacents\n",
    "        prix_moyens = np.mean(prix_samples, axis=1)\n",
    "        \n",
    "        # Calculer la valeur de l'option pour chaque échantillon\n",
    "        if call:\n",
    "            option_values = np.maximum(prix_moyens - K, 0)\n",
    "        else:\n",
    "            option_values = np.maximum(K - prix_moyens, 0)\n",
    "        \n",
    "        simulation_results.append(option_values)\n",
    "    \n",
    "    # Estimer le prix et l'erreur\n",
    "    P = np.mean(option_values) * np.exp(-r * T)\n",
    "    sigma_hat = np.std(option_values) * np.exp(-r * T) / np.sqrt(n)\n",
    "    #sigma_hat = moyenne_ecart(simulation_results)[1]\n",
    "    \n",
    "    return P, sigma_hat"
   ]
  },
  {
   "cell_type": "code",
   "execution_count": 11,
   "metadata": {},
   "outputs": [],
   "source": [
    "# Initialisation des paramètres\n",
    "\n",
    "S0 = 100\n",
    "K = 105\n",
    "T = 1\n",
    "r = 0.02\n",
    "sigma = 0.1\n",
    "m = 6\n",
    "call = True"
   ]
  },
  {
   "cell_type": "code",
   "execution_count": 21,
   "metadata": {},
   "outputs": [
    {
     "data": {
      "text/plain": [
       "(0.8243814226400079, 0.0021291805729550086)"
      ]
     },
     "execution_count": 21,
     "metadata": {},
     "output_type": "execute_result"
    }
   ],
   "source": [
    "option_as_MC_1(S0, K, T, r, sigma)"
   ]
  },
  {
   "cell_type": "code",
   "execution_count": 12,
   "metadata": {},
   "outputs": [
    {
     "name": "stdout",
     "output_type": "stream",
     "text": [
      "Prix de l'option asiatique estimé : 0.6779860716842859\n",
      "Estimation de l'erreur : 0.0018686400659810771\n",
      "Estimation du temps : 36.73889899253845\n"
     ]
    }
   ],
   "source": [
    "# Test fonction option_as_MC_1\n",
    "\n",
    "s = time()\n",
    "P, sigma_hat = option_as_MC_1(S0, K, T, r, sigma, m, call)\n",
    "e = time()\n",
    "print(f\"Prix de l'option asiatique estimé : {P}\")\n",
    "print(f\"Estimation de l'erreur : {sigma_hat}\")\n",
    "print(f\"Estimation du temps : {e - s}\")"
   ]
  },
  {
   "cell_type": "raw",
   "metadata": {},
   "source": [
    "# Observation : \n",
    "Le test de la fonction option_as_MC_1 nous donne une valeur différente par rapport à ce que nous cherchons\n",
    "La valeur obtenu est de 0,6768 qui très loin de ce qui est attendu 1,16"
   ]
  },
  {
   "cell_type": "code",
   "execution_count": 13,
   "metadata": {},
   "outputs": [
    {
     "name": "stdout",
     "output_type": "stream",
     "text": [
      "Prix de l'option asiatique estimé : 1.1715518531112683\n",
      "Estimation de l'erreur : 0.0026874275446307624\n",
      "Estimation du temps : 1.3889431953430176\n"
     ]
    }
   ],
   "source": [
    "# Test fonction option_as_MC_2\n",
    "\n",
    "s = time()\n",
    "P, sigma_hat = option_as_MC_2(S0, K, T, r, sigma, call=True, m = 6, n=10**6)\n",
    "e = time()\n",
    "print(f\"Prix de l'option asiatique estimé : {P}\")\n",
    "print(f\"Estimation de l'erreur : {sigma_hat}\")\n",
    "print(f\"Estimation du temps : {e - s}\")"
   ]
  },
  {
   "cell_type": "raw",
   "metadata": {},
   "source": [
    "On remarque que la deuxième fonction nous donnes les résultats attendus "
   ]
  },
  {
   "cell_type": "code",
   "execution_count": 41,
   "metadata": {},
   "outputs": [
    {
     "name": "stdout",
     "output_type": "stream",
     "text": [
      "Prix de l'option d'achat (call) et l'écart:  (0.8221510625140328, 0.00212013369539786)\n",
      "Prix de l'option de vente (put) et l'écart:  (4.738798725450946, 0.004391179373865165) \n",
      "\n",
      "Prix de l'option d'achat (call) avec sigma = 0 et l'écart:  (0.0, 0.0)\n",
      "Prix de l'option de vente (put) avec sigma = 0 et l'écart:  (3.9136771972908204, 4.987879272156667e-14)\n"
     ]
    }
   ],
   "source": [
    "call_option_price = option_as_MC_1(*parametres[0])\n",
    "put_option_price = option_as_MC_1(*parametres[1])\n",
    "call_option_price_No_sigma = option_as_MC_1(*parametres[2])\n",
    "put_option_price_No_sigma = option_as_MC_1(*parametres[3])\n",
    "\n",
    "print(\"Prix de l'option d'achat (call) et l'écart: \", call_option_price)\n",
    "print(\"Prix de l'option de vente (put) et l'écart: \", put_option_price, \"\\n\")\n",
    "print(\"Prix de l'option d'achat (call) avec sigma = 0 et l'écart: \", call_option_price_No_sigma)\n",
    "print(\"Prix de l'option de vente (put) avec sigma = 0 et l'écart: \", put_option_price_No_sigma)"
   ]
  },
  {
   "cell_type": "code",
   "execution_count": 14,
   "metadata": {},
   "outputs": [],
   "source": [
    "# Liste des valeurs de n à tester\n",
    "n_valeurs = [10**i for i in range(1, 6)]\n",
    "\n",
    "S0, K, T, r, sigma, call = parametres[0]"
   ]
  },
  {
   "cell_type": "code",
   "execution_count": 17,
   "metadata": {},
   "outputs": [
    {
     "data": {
      "text/plain": [
       "(1.1695903439727955, 0.002687408393768663)"
      ]
     },
     "execution_count": 17,
     "metadata": {},
     "output_type": "execute_result"
    }
   ],
   "source": [
    "option_as_MC_2(S0, K, T, r, sigma, True)"
   ]
  },
  {
   "cell_type": "code",
   "execution_count": 15,
   "metadata": {},
   "outputs": [
    {
     "ename": "MemoryError",
     "evalue": "Unable to allocate 7.45 GiB for an array with shape (1000, 1000000) and data type float64",
     "output_type": "error",
     "traceback": [
      "\u001b[1;31m---------------------------------------------------------------------------\u001b[0m",
      "\u001b[1;31mMemoryError\u001b[0m                               Traceback (most recent call last)",
      "\u001b[1;32m<ipython-input-15-d9a85aea5f6e>\u001b[0m in \u001b[0;36m<module>\u001b[1;34m\u001b[0m\n\u001b[0;32m      5\u001b[0m \u001b[1;32mfor\u001b[0m \u001b[0mn\u001b[0m \u001b[1;32min\u001b[0m \u001b[0mn_valeurs\u001b[0m\u001b[1;33m:\u001b[0m\u001b[1;33m\u001b[0m\u001b[1;33m\u001b[0m\u001b[0m\n\u001b[0;32m      6\u001b[0m     \u001b[0mdebut\u001b[0m \u001b[1;33m=\u001b[0m \u001b[0mtime\u001b[0m\u001b[1;33m(\u001b[0m\u001b[1;33m)\u001b[0m  \u001b[1;31m# Mesurer le temps de départ\u001b[0m\u001b[1;33m\u001b[0m\u001b[1;33m\u001b[0m\u001b[0m\n\u001b[1;32m----> 7\u001b[1;33m     \u001b[0mP\u001b[0m\u001b[1;33m,\u001b[0m \u001b[0msigma_hat\u001b[0m \u001b[1;33m=\u001b[0m \u001b[0moption_as_MC_2\u001b[0m\u001b[1;33m(\u001b[0m\u001b[0mS0\u001b[0m\u001b[1;33m,\u001b[0m \u001b[0mK\u001b[0m\u001b[1;33m,\u001b[0m \u001b[0mT\u001b[0m\u001b[1;33m,\u001b[0m \u001b[0mr\u001b[0m\u001b[1;33m,\u001b[0m \u001b[0msigma\u001b[0m\u001b[1;33m,\u001b[0m \u001b[1;32mTrue\u001b[0m\u001b[1;33m,\u001b[0m \u001b[0mn\u001b[0m\u001b[1;33m)\u001b[0m\u001b[1;33m\u001b[0m\u001b[1;33m\u001b[0m\u001b[0m\n\u001b[0m\u001b[0;32m      8\u001b[0m     \u001b[0mfin\u001b[0m \u001b[1;33m=\u001b[0m \u001b[0mtime\u001b[0m\u001b[1;33m(\u001b[0m\u001b[1;33m)\u001b[0m  \u001b[1;31m# Mesurer le temps de fin\u001b[0m\u001b[1;33m\u001b[0m\u001b[1;33m\u001b[0m\u001b[0m\n\u001b[0;32m      9\u001b[0m     \u001b[0mtemps_execution\u001b[0m \u001b[1;33m=\u001b[0m \u001b[0mfin\u001b[0m \u001b[1;33m-\u001b[0m \u001b[0mdebut\u001b[0m\u001b[1;33m\u001b[0m\u001b[1;33m\u001b[0m\u001b[0m\n",
      "\u001b[1;32m<ipython-input-10-5aba782bde55>\u001b[0m in \u001b[0;36moption_as_MC_2\u001b[1;34m(S0, K, T, r, sigma, call, m, n)\u001b[0m\n\u001b[0;32m     22\u001b[0m         \u001b[0mepsilon\u001b[0m \u001b[1;33m=\u001b[0m \u001b[1;33m-\u001b[0m\u001b[1;36m1\u001b[0m\u001b[1;33m\u001b[0m\u001b[1;33m\u001b[0m\u001b[0m\n\u001b[0;32m     23\u001b[0m \u001b[1;33m\u001b[0m\u001b[0m\n\u001b[1;32m---> 24\u001b[1;33m     \u001b[0mpaths\u001b[0m \u001b[1;33m=\u001b[0m \u001b[0mMouvement_brownien\u001b[0m\u001b[1;33m(\u001b[0m\u001b[0mS0\u001b[0m\u001b[1;33m,\u001b[0m \u001b[0mT\u001b[0m\u001b[1;33m,\u001b[0m \u001b[0mr\u001b[0m\u001b[1;33m,\u001b[0m \u001b[0msigma\u001b[0m\u001b[1;33m,\u001b[0m \u001b[0mm\u001b[0m\u001b[1;33m)\u001b[0m\u001b[1;33m\u001b[0m\u001b[1;33m\u001b[0m\u001b[0m\n\u001b[0m\u001b[0;32m     25\u001b[0m \u001b[1;33m\u001b[0m\u001b[0m\n\u001b[0;32m     26\u001b[0m     \u001b[0mS_mean\u001b[0m \u001b[1;33m=\u001b[0m \u001b[0mnp\u001b[0m\u001b[1;33m.\u001b[0m\u001b[0mmean\u001b[0m\u001b[1;33m(\u001b[0m\u001b[0mpaths\u001b[0m\u001b[1;33m,\u001b[0m \u001b[0maxis\u001b[0m\u001b[1;33m=\u001b[0m\u001b[1;36m0\u001b[0m\u001b[1;33m)\u001b[0m\u001b[1;33m\u001b[0m\u001b[1;33m\u001b[0m\u001b[0m\n",
      "\u001b[1;32m<ipython-input-9-6dc2cfbdeeca>\u001b[0m in \u001b[0;36mMouvement_brownien\u001b[1;34m(S0, T, r, sigma, m, n)\u001b[0m\n\u001b[0;32m      4\u001b[0m     \"\"\"\n\u001b[0;32m      5\u001b[0m     \u001b[0mdt\u001b[0m \u001b[1;33m=\u001b[0m \u001b[0mT\u001b[0m \u001b[1;33m/\u001b[0m \u001b[0mm\u001b[0m\u001b[1;33m\u001b[0m\u001b[1;33m\u001b[0m\u001b[0m\n\u001b[1;32m----> 6\u001b[1;33m     \u001b[0mST\u001b[0m \u001b[1;33m=\u001b[0m \u001b[0mS0\u001b[0m \u001b[1;33m*\u001b[0m \u001b[0mnp\u001b[0m\u001b[1;33m.\u001b[0m\u001b[0mexp\u001b[0m\u001b[1;33m(\u001b[0m\u001b[0mnp\u001b[0m\u001b[1;33m.\u001b[0m\u001b[0mcumsum\u001b[0m\u001b[1;33m(\u001b[0m\u001b[1;33m(\u001b[0m\u001b[0mr\u001b[0m \u001b[1;33m-\u001b[0m \u001b[1;36m0.5\u001b[0m \u001b[1;33m*\u001b[0m \u001b[0msigma\u001b[0m\u001b[1;33m**\u001b[0m\u001b[1;36m2\u001b[0m\u001b[1;33m)\u001b[0m \u001b[1;33m*\u001b[0m \u001b[0mdt\u001b[0m \u001b[1;33m+\u001b[0m \u001b[0msigma\u001b[0m \u001b[1;33m*\u001b[0m \u001b[0mnp\u001b[0m\u001b[1;33m.\u001b[0m\u001b[0msqrt\u001b[0m\u001b[1;33m(\u001b[0m\u001b[0mdt\u001b[0m\u001b[1;33m)\u001b[0m \u001b[1;33m*\u001b[0m \u001b[0mnp\u001b[0m\u001b[1;33m.\u001b[0m\u001b[0mrandom\u001b[0m\u001b[1;33m.\u001b[0m\u001b[0mnormal\u001b[0m\u001b[1;33m(\u001b[0m\u001b[1;36m0\u001b[0m\u001b[1;33m,\u001b[0m \u001b[1;36m1\u001b[0m\u001b[1;33m,\u001b[0m \u001b[0msize\u001b[0m\u001b[1;33m=\u001b[0m\u001b[1;33m(\u001b[0m\u001b[0mm\u001b[0m\u001b[1;33m,\u001b[0m \u001b[0mn\u001b[0m\u001b[1;33m)\u001b[0m\u001b[1;33m)\u001b[0m\u001b[1;33m,\u001b[0m \u001b[0maxis\u001b[0m\u001b[1;33m=\u001b[0m\u001b[1;36m0\u001b[0m\u001b[1;33m)\u001b[0m\u001b[1;33m)\u001b[0m\u001b[1;33m\u001b[0m\u001b[1;33m\u001b[0m\u001b[0m\n\u001b[0m\u001b[0;32m      7\u001b[0m     \u001b[1;32mreturn\u001b[0m \u001b[0mST\u001b[0m\u001b[1;33m\u001b[0m\u001b[1;33m\u001b[0m\u001b[0m\n",
      "\u001b[1;31mMemoryError\u001b[0m: Unable to allocate 7.45 GiB for an array with shape (1000, 1000000) and data type float64"
     ]
    }
   ],
   "source": [
    "# Créez un DataFrame pour stocker les résultats\n",
    "res_option_as_MC_1 = pd.DataFrame(columns=['n', 'σˆP', 'Temps d\\'exécution (s)'])\n",
    "\n",
    "# Itération sur différentes valeurs de n\n",
    "for n in n_valeurs:\n",
    "    debut = time()  # Mesurer le temps de départ\n",
    "    P, sigma_hat = option_as_MC_2(S0, K, T, r, sigma, True, n)\n",
    "    fin = time()  # Mesurer le temps de fin\n",
    "    temps_execution = fin - debut\n",
    "    \n",
    "    # Ajouter les résultats à la DataFrame en utilisant loc\n",
    "    res_option_as_MC_1.loc[len(res_option_as_MC_1)] = [n, sigma_hat, temps_execution]\n",
    "\n",
    "# Afficher les résultats\n",
    "print(res_option_as_MC_1)"
   ]
  },
  {
   "cell_type": "code",
   "execution_count": 156,
   "metadata": {},
   "outputs": [
    {
     "data": {
      "image/png": "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\n",
      "text/plain": [
       "<Figure size 720x360 with 2 Axes>"
      ]
     },
     "metadata": {
      "needs_background": "light"
     },
     "output_type": "display_data"
    }
   ],
   "source": [
    "# Tracer les graphiques\n",
    "plt.figure(figsize=(10, 5))\n",
    "plt.subplot(1, 2, 1)\n",
    "plt.plot(res_option_as_MC_1['n'].values, res_option_as_MC_1['σˆP'].values, marker='o')\n",
    "plt.xlabel('n')\n",
    "plt.ylabel('Estimé d\\'erreur σˆP')\n",
    "plt.title('Variation de l\\'estimé d\\'erreur en fonction de n')\n",
    "\n",
    "plt.subplot(1, 2, 2)\n",
    "plt.plot(res_option_as_MC_1['n'].values, res_option_as_MC_1['Temps d\\'exécution (s)'].values, marker='o', color='green')\n",
    "plt.xlabel('n')\n",
    "plt.ylabel('Temps d\\'exécution (s)')\n",
    "plt.title('Variation du temps d\\'exécution en fonction de n')\n",
    "\n",
    "plt.tight_layout()\n",
    "plt.show()"
   ]
  },
  {
   "cell_type": "code",
   "execution_count": 19,
   "metadata": {},
   "outputs": [],
   "source": [
    "#Question 2\n",
    "def option_as_MC_3(S0, K, T, r, sigma, call=True, m = 6 ,n=10**6):\n",
    "    \"\"\"\n",
    "    Objectif: \n",
    "    Input: \n",
    "    Output:\n",
    "    \"\"\"\n",
    "    dt = T / m\n",
    "    \n",
    "    # Générer n échantillons de variables aléatoires en une seule opération\n",
    "    Z = np.random.normal(0, 1, size=(n, m))\n",
    "    \n",
    "    # Générer n échantillons de prix sous-jacents en utilisant Z\n",
    "    prix_samples = S0 * np.exp(np.cumsum((r - 0.5 * sigma**2) * dt + sigma * np.sqrt(dt) * Z, axis=1))\n",
    "    \n",
    "    # Calculer la moyenne des prix sous-jacents en une seule opération\n",
    "    prix_moyens = np.mean(prix_samples, axis=1)\n",
    "    \n",
    "    # Calculer la valeur de l'option pour chaque échantillon en une seule opération\n",
    "    if call:\n",
    "        option_values = np.maximum(prix_moyens - K, 0)\n",
    "    else:\n",
    "        option_values = np.maximum(K - prix_moyens, 0)\n",
    "    \n",
    "    # Estimer le prix et l'erreur en une seule opération\n",
    "    P = np.mean(option_values) * np.exp(-r * T)\n",
    "    sigma_hat = np.std(option_values) * np.exp(-r * T) / np.sqrt(n)\n",
    "    \n",
    "    return P, sigma_hat"
   ]
  },
  {
   "cell_type": "code",
   "execution_count": 45,
   "metadata": {},
   "outputs": [
    {
     "name": "stdout",
     "output_type": "stream",
     "text": [
      "Prix de l'option asiatique estimé : 1.1689768339728361\n",
      "Estimation de l'erreur : 0.002160464932609683\n",
      "Estimation de l'erreur : 0.3496980667114258\n"
     ]
    }
   ],
   "source": [
    "s = time()\n",
    "P, sigma_ha = option_as_MC_3(S0, K, T, r, sigma, m, n = 10**6)\n",
    "e = time()\n",
    "print(f\"Prix de l'option asiatique estimé : {P}\")\n",
    "print(f\"Estimation de l'erreur : {sigma_hat}\")\n",
    "print(f\"Estimation de l'erreur : {e - s}\")"
   ]
  },
  {
   "cell_type": "code",
   "execution_count": 46,
   "metadata": {},
   "outputs": [
    {
     "name": "stdout",
     "output_type": "stream",
     "text": [
      "Prix de l'option d'achat (call) et l'écart:  (1.1633682168191009, 0.002675031645997427)\n",
      "Prix de l'option de vente (put) et l'écart:  (4.92158190995555, 0.004801668606922185) \n",
      "\n",
      "Prix de l'option d'achat (call) avec sigma = 0 et l'écart:  (0.0, 0.0)\n",
      "Prix de l'option de vente (put) avec sigma = 0 et l'écart:  (3.74912450241698, 9.576504395147286e-18)\n"
     ]
    }
   ],
   "source": [
    "call_option_price = option_as_MC_3(*parametres[0])\n",
    "put_option_price = option_as_MC_3(*parametres[1])\n",
    "call_option_price_No_sigma = option_as_MC_3(*parametres[2])\n",
    "put_option_price_No_sigma = option_as_MC_3(*parametres[3])\n",
    "\n",
    "print(\"Prix de l'option d'achat (call) et l'écart: \", call_option_price)\n",
    "print(\"Prix de l'option de vente (put) et l'écart: \", put_option_price, \"\\n\")\n",
    "print(\"Prix de l'option d'achat (call) avec sigma = 0 et l'écart: \", call_option_price_No_sigma)\n",
    "print(\"Prix de l'option de vente (put) avec sigma = 0 et l'écart: \", put_option_price_No_sigma)"
   ]
  },
  {
   "cell_type": "code",
   "execution_count": 20,
   "metadata": {},
   "outputs": [
    {
     "ename": "MemoryError",
     "evalue": "Unable to allocate 7.45 GiB for an array with shape (1000000, 1000) and data type float64",
     "output_type": "error",
     "traceback": [
      "\u001b[1;31m---------------------------------------------------------------------------\u001b[0m",
      "\u001b[1;31mMemoryError\u001b[0m                               Traceback (most recent call last)",
      "\u001b[1;32m<ipython-input-20-b1231910039d>\u001b[0m in \u001b[0;36m<module>\u001b[1;34m\u001b[0m\n\u001b[0;32m      7\u001b[0m \u001b[1;32mfor\u001b[0m \u001b[0mn\u001b[0m \u001b[1;32min\u001b[0m \u001b[0mn_valeurs\u001b[0m\u001b[1;33m:\u001b[0m\u001b[1;33m\u001b[0m\u001b[1;33m\u001b[0m\u001b[0m\n\u001b[0;32m      8\u001b[0m     \u001b[0mdebut\u001b[0m \u001b[1;33m=\u001b[0m \u001b[0mtime\u001b[0m\u001b[1;33m(\u001b[0m\u001b[1;33m)\u001b[0m  \u001b[1;31m# Mesurer le temps de départ\u001b[0m\u001b[1;33m\u001b[0m\u001b[1;33m\u001b[0m\u001b[0m\n\u001b[1;32m----> 9\u001b[1;33m     \u001b[0mP\u001b[0m\u001b[1;33m,\u001b[0m \u001b[0msigma_hat\u001b[0m \u001b[1;33m=\u001b[0m \u001b[0moption_as_MC_3\u001b[0m\u001b[1;33m(\u001b[0m\u001b[0mS0\u001b[0m\u001b[1;33m,\u001b[0m \u001b[0mK\u001b[0m\u001b[1;33m,\u001b[0m \u001b[0mT\u001b[0m\u001b[1;33m,\u001b[0m \u001b[0mr\u001b[0m\u001b[1;33m,\u001b[0m \u001b[0msigma\u001b[0m\u001b[1;33m,\u001b[0m \u001b[1;32mTrue\u001b[0m\u001b[1;33m,\u001b[0m \u001b[0mn\u001b[0m\u001b[1;33m)\u001b[0m\u001b[1;33m\u001b[0m\u001b[1;33m\u001b[0m\u001b[0m\n\u001b[0m\u001b[0;32m     10\u001b[0m     \u001b[0mfin\u001b[0m \u001b[1;33m=\u001b[0m \u001b[0mtime\u001b[0m\u001b[1;33m(\u001b[0m\u001b[1;33m)\u001b[0m  \u001b[1;31m# Mesurer le temps de fin\u001b[0m\u001b[1;33m\u001b[0m\u001b[1;33m\u001b[0m\u001b[0m\n\u001b[0;32m     11\u001b[0m     \u001b[0mtemps_execution\u001b[0m \u001b[1;33m=\u001b[0m \u001b[0mfin\u001b[0m \u001b[1;33m-\u001b[0m \u001b[0mdebut\u001b[0m\u001b[1;33m\u001b[0m\u001b[1;33m\u001b[0m\u001b[0m\n",
      "\u001b[1;32m<ipython-input-19-8934368ed245>\u001b[0m in \u001b[0;36moption_as_MC_3\u001b[1;34m(S0, K, T, r, sigma, call, m, n)\u001b[0m\n\u001b[0;32m     12\u001b[0m \u001b[1;33m\u001b[0m\u001b[0m\n\u001b[0;32m     13\u001b[0m     \u001b[1;31m# Générer n échantillons de prix sous-jacents en utilisant Z\u001b[0m\u001b[1;33m\u001b[0m\u001b[1;33m\u001b[0m\u001b[1;33m\u001b[0m\u001b[0m\n\u001b[1;32m---> 14\u001b[1;33m     \u001b[0mprix_samples\u001b[0m \u001b[1;33m=\u001b[0m \u001b[0mS0\u001b[0m \u001b[1;33m*\u001b[0m \u001b[0mnp\u001b[0m\u001b[1;33m.\u001b[0m\u001b[0mexp\u001b[0m\u001b[1;33m(\u001b[0m\u001b[0mnp\u001b[0m\u001b[1;33m.\u001b[0m\u001b[0mcumsum\u001b[0m\u001b[1;33m(\u001b[0m\u001b[1;33m(\u001b[0m\u001b[0mr\u001b[0m \u001b[1;33m-\u001b[0m \u001b[1;36m0.5\u001b[0m \u001b[1;33m*\u001b[0m \u001b[0msigma\u001b[0m\u001b[1;33m**\u001b[0m\u001b[1;36m2\u001b[0m\u001b[1;33m)\u001b[0m \u001b[1;33m*\u001b[0m \u001b[0mdt\u001b[0m \u001b[1;33m+\u001b[0m \u001b[0msigma\u001b[0m \u001b[1;33m*\u001b[0m \u001b[0mnp\u001b[0m\u001b[1;33m.\u001b[0m\u001b[0msqrt\u001b[0m\u001b[1;33m(\u001b[0m\u001b[0mdt\u001b[0m\u001b[1;33m)\u001b[0m \u001b[1;33m*\u001b[0m \u001b[0mZ\u001b[0m\u001b[1;33m,\u001b[0m \u001b[0maxis\u001b[0m\u001b[1;33m=\u001b[0m\u001b[1;36m1\u001b[0m\u001b[1;33m)\u001b[0m\u001b[1;33m)\u001b[0m\u001b[1;33m\u001b[0m\u001b[1;33m\u001b[0m\u001b[0m\n\u001b[0m\u001b[0;32m     15\u001b[0m \u001b[1;33m\u001b[0m\u001b[0m\n\u001b[0;32m     16\u001b[0m     \u001b[1;31m# Calculer la moyenne des prix sous-jacents en une seule opération\u001b[0m\u001b[1;33m\u001b[0m\u001b[1;33m\u001b[0m\u001b[1;33m\u001b[0m\u001b[0m\n",
      "\u001b[1;31mMemoryError\u001b[0m: Unable to allocate 7.45 GiB for an array with shape (1000000, 1000) and data type float64"
     ]
    }
   ],
   "source": [
    "# Créez un DataFrame pour stocker les résultats\n",
    "res_option_as_MC_3 = pd.DataFrame(columns=['n', 'σˆP', 'Temps d\\'exécution (s)'])\n",
    "\n",
    "n_valeurs = [10**i for i in range(1, 5)]\n",
    "\n",
    "# Itération sur différentes valeurs de n\n",
    "for n in n_valeurs:\n",
    "    debut = time()  # Mesurer le temps de départ\n",
    "    P, sigma_hat = option_as_MC_3(S0, K, T, r, sigma, True, n)\n",
    "    fin = time()  # Mesurer le temps de fin\n",
    "    temps_execution = fin - debut\n",
    "    \n",
    "    # Ajouter les résultats à la DataFrame en utilisant loc\n",
    "    res_option_as_MC_3.loc[len(res_option_as_MC_3)] = [n, sigma_hat, temps_execution]\n",
    "\n",
    "# Afficher les résultats\n",
    "res_option_as_MC_3"
   ]
  },
  {
   "cell_type": "code",
   "execution_count": 10,
   "metadata": {},
   "outputs": [
    {
     "data": {
      "image/png": "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\n",
      "text/plain": [
       "<Figure size 720x360 with 2 Axes>"
      ]
     },
     "metadata": {
      "needs_background": "light"
     },
     "output_type": "display_data"
    }
   ],
   "source": [
    "# Tracer les graphiques\n",
    "plt.figure(figsize=(10, 5))\n",
    "plt.subplot(1, 2, 1)\n",
    "plt.plot(res_option_as_MC_3['n'].values, res_option_as_MC_3['σˆP'].values, marker='o')\n",
    "plt.xlabel('n')\n",
    "plt.ylabel('Estimé d\\'erreur σˆP')\n",
    "plt.title('Variation de l\\'estimé d\\'erreur en fonction de n')\n",
    "\n",
    "plt.subplot(1, 2, 2)\n",
    "plt.plot(res_option_as_MC_3['n'].values, res_option_as_MC_3['Temps d\\'exécution (s)'].values, marker='o', color='green')\n",
    "plt.xlabel('n')\n",
    "plt.ylabel('Temps d\\'exécution (s)')\n",
    "plt.title('Variation du temps d\\'exécution en fonction de n')\n",
    "\n",
    "plt.tight_layout()\n",
    "plt.show()"
   ]
  },
  {
   "cell_type": "code",
   "execution_count": 14,
   "metadata": {},
   "outputs": [],
   "source": [
    "data_param = pd.DataFrame(parametres, columns=['S0', 'K', 'T', 'r', 'sigma', 'call'])\n",
    "data_res_simulation = pd.DataFrame(columns=['formule_Black_Scholes', 'option_eu_MC', 'option_as_MC'])\n",
    "\n",
    "for i in range(0, len(parametres)):\n",
    "    BC_price = formule_Black_Scholes(*parametres[i])\n",
    "    Eu_Mc_price, Eu_Mc_ecart = option_eu_MC2(*parametres[i])\n",
    "    As_Mc_price, As_Mc_ecart = option_as_MC_3(*parametres[i])\n",
    "    \n",
    "    data_res_simulation.loc[len(data_res_simulation)] = [BC_price, \n",
    "                                                         tuple(map(lambda x: round(x, 4), (Eu_Mc_price,Eu_Mc_ecart))), \n",
    "                                                         tuple(map(lambda x: round(x, 4), (As_Mc_price,As_Mc_ecart)))]"
   ]
  },
  {
   "cell_type": "code",
   "execution_count": 15,
   "metadata": {},
   "outputs": [
    {
     "data": {
      "text/html": [
       "<div>\n",
       "<style scoped>\n",
       "    .dataframe tbody tr th:only-of-type {\n",
       "        vertical-align: middle;\n",
       "    }\n",
       "\n",
       "    .dataframe tbody tr th {\n",
       "        vertical-align: top;\n",
       "    }\n",
       "\n",
       "    .dataframe thead th {\n",
       "        text-align: right;\n",
       "    }\n",
       "</style>\n",
       "<table border=\"1\" class=\"dataframe\">\n",
       "  <thead>\n",
       "    <tr style=\"text-align: right;\">\n",
       "      <th></th>\n",
       "      <th>S0</th>\n",
       "      <th>K</th>\n",
       "      <th>T</th>\n",
       "      <th>r</th>\n",
       "      <th>sigma</th>\n",
       "      <th>call</th>\n",
       "      <th>formule_Black_Scholes</th>\n",
       "      <th>option_eu_MC</th>\n",
       "      <th>option_as_MC</th>\n",
       "    </tr>\n",
       "  </thead>\n",
       "  <tbody>\n",
       "    <tr>\n",
       "      <th>0</th>\n",
       "      <td>100</td>\n",
       "      <td>105</td>\n",
       "      <td>1</td>\n",
       "      <td>0.02</td>\n",
       "      <td>0.1</td>\n",
       "      <td>True</td>\n",
       "      <td>2.751949</td>\n",
       "      <td>(2.7511, 0.0053)</td>\n",
       "      <td>(1.1698, 0.0027)</td>\n",
       "    </tr>\n",
       "    <tr>\n",
       "      <th>1</th>\n",
       "      <td>100</td>\n",
       "      <td>105</td>\n",
       "      <td>1</td>\n",
       "      <td>0.02</td>\n",
       "      <td>0.1</td>\n",
       "      <td>False</td>\n",
       "      <td>5.672809</td>\n",
       "      <td>(5.66, 0.0066)</td>\n",
       "      <td>(4.9141, 0.0048)</td>\n",
       "    </tr>\n",
       "    <tr>\n",
       "      <th>2</th>\n",
       "      <td>100</td>\n",
       "      <td>105</td>\n",
       "      <td>1</td>\n",
       "      <td>0.02</td>\n",
       "      <td>0.0</td>\n",
       "      <td>True</td>\n",
       "      <td>0.000000</td>\n",
       "      <td>(0.0, 0.0)</td>\n",
       "      <td>(0.0, 0.0)</td>\n",
       "    </tr>\n",
       "    <tr>\n",
       "      <th>3</th>\n",
       "      <td>100</td>\n",
       "      <td>105</td>\n",
       "      <td>1</td>\n",
       "      <td>0.02</td>\n",
       "      <td>0.0</td>\n",
       "      <td>False</td>\n",
       "      <td>2.920861</td>\n",
       "      <td>(2.9209, 0.0)</td>\n",
       "      <td>(3.7491, 0.0)</td>\n",
       "    </tr>\n",
       "  </tbody>\n",
       "</table>\n",
       "</div>"
      ],
      "text/plain": [
       "    S0    K  T     r  sigma   call  formule_Black_Scholes      option_eu_MC  \\\n",
       "0  100  105  1  0.02    0.1   True               2.751949  (2.7511, 0.0053)   \n",
       "1  100  105  1  0.02    0.1  False               5.672809    (5.66, 0.0066)   \n",
       "2  100  105  1  0.02    0.0   True               0.000000        (0.0, 0.0)   \n",
       "3  100  105  1  0.02    0.0  False               2.920861     (2.9209, 0.0)   \n",
       "\n",
       "       option_as_MC  \n",
       "0  (1.1698, 0.0027)  \n",
       "1  (4.9141, 0.0048)  \n",
       "2        (0.0, 0.0)  \n",
       "3     (3.7491, 0.0)  "
      ]
     },
     "execution_count": 15,
     "metadata": {},
     "output_type": "execute_result"
    }
   ],
   "source": [
    "pd.concat([data_param, data_res_simulation], axis = 1)"
   ]
  },
  {
   "cell_type": "raw",
   "metadata": {},
   "source": [
    "Résumé:\n",
    "Ce projet se concentre sur l'estimation des prix des options financières, en mettant en œuvre la méthode de Monte Carlo. Il s'articule autour du modèle Black-Scholes-Merton, qui est utilisé pour évaluer les options européennes et asiatiques.\n",
    "\n",
    "Pour les options européennes, la simulation de Monte Carlo consiste à générer un grand nombre de trajectoires aléatoires du prix de l'actif sous-jacent, en tenant compte de la volatilité, du taux d'intérêt et du temps. En utilisant ces trajectoires, le prix de l'option est estimé en fonction de son type (call ou put).\n",
    "\n",
    "Pour les options asiatiques, la simulation est adaptée pour prendre en compte l'option du calcul de la moyenne du prix de l'actif sous-jacent sur une période donnée. La méthode de Monte Carlo est utilisée pour estimer la moyenne du prix et évaluer l'option asiatique en conséquence.\n",
    "\n",
    "En résumé, ce projet permet d'estimer les prix des options financières en utilisant la méthode de Monte Carlo, offrant ainsi une approche puissante pour évaluer ces instruments financiers sur des marchés complexes et dynamiques."
   ]
  }
 ],
 "metadata": {
  "kernelspec": {
   "display_name": "Python 3",
   "language": "python",
   "name": "python3"
  },
  "language_info": {
   "codemirror_mode": {
    "name": "ipython",
    "version": 3
   },
   "file_extension": ".py",
   "mimetype": "text/x-python",
   "name": "python",
   "nbconvert_exporter": "python",
   "pygments_lexer": "ipython3",
   "version": "3.8.5"
  }
 },
 "nbformat": 4,
 "nbformat_minor": 4
}
